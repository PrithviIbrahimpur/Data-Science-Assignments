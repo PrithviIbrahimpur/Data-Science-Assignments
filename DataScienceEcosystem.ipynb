{
 "cells": [
  {
   "cell_type": "markdown",
   "id": "84a80420-adb3-49c6-bd7d-6667f435f195",
   "metadata": {},
   "source": [
    "# Data Science Tools and Ecosystems"
   ]
  },
  {
   "cell_type": "markdown",
   "id": "1d1fa8bf-8ffb-4f45-861f-2be36b88137a",
   "metadata": {},
   "source": [
    "In this notebook, Data Science Tools and Ecosystems are summarised. "
   ]
  },
  {
   "cell_type": "markdown",
   "id": "a5f76057-0f12-46d2-9f39-eb169bd1993d",
   "metadata": {},
   "source": [
    "**Objectives*\n",
    "* Popular Languages Used by Data Scientist\n",
    "* Commonly Used Libraries\n",
    "* Popular Development Environments\n",
    "* Examples of Arithmetic evaluation in Python\n",
    "    * Simple Addition and Multiplication\n",
    "    * Converting Minutes to Hours\n"
   ]
  },
  {
   "cell_type": "markdown",
   "id": "464aac50-9c35-4866-9586-b1dedf472495",
   "metadata": {},
   "source": [
    "Some of the popular languages Data Scientists use are:\n",
    "1. Python\n",
    "2. R\n",
    "3. Julia\n",
    "4. SQL (Structured Query Language)\n",
    "5. Javascript\n",
    "6. Scala\n",
    "7. Java\n"
   ]
  },
  {
   "cell_type": "markdown",
   "id": "5808a7d0-545c-443b-ade9-9f207f36c84b",
   "metadata": {},
   "source": [
    "Some commonly used libraries used by Data Scientists are:\n",
    "1. Pandas\n",
    "2. Matplotlib\n",
    "3. Plotly\n",
    "4. Seaborn\n",
    "5. Ggplot\n",
    "6. Altair\n",
    "7. Autoviz\n"
   ]
  },
  {
   "cell_type": "markdown",
   "id": "b355a2bc-84a9-464d-8b85-25e79d7e8f51",
   "metadata": {},
   "source": [
    "| Data Science Tools|\n",
    "|:-----------------:|\n",
    "| Jupyter Notebooks |\n",
    "| Zeppelin Notebooks|\n",
    "| R Studio          |"
   ]
  },
  {
   "cell_type": "markdown",
   "id": "48c95711-d41a-45d9-b39c-91bf5f323983",
   "metadata": {},
   "source": [
    "### Below are a few examples of Evaluating Arithmetic Expressions in Python"
   ]
  },
  {
   "cell_type": "code",
   "execution_count": 2,
   "id": "e587381f-086e-47e8-a40d-0054af5f8600",
   "metadata": {},
   "outputs": [
    {
     "data": {
      "text/plain": [
       "17"
      ]
     },
     "execution_count": 2,
     "metadata": {},
     "output_type": "execute_result"
    }
   ],
   "source": [
    "#This is a simple Arithmetic expression to multiply and then add integers.\n",
    "(3*4)+5"
   ]
  },
  {
   "cell_type": "code",
   "execution_count": 17,
   "id": "1cbb4765-9f6a-4eea-b602-f24ba0ff0b17",
   "metadata": {},
   "outputs": [
    {
     "name": "stdin",
     "output_type": "stream",
     "text": [
      "Enter Minutes: 150\n"
     ]
    },
    {
     "name": "stdout",
     "output_type": "stream",
     "text": [
      "2.5 Hours\n",
      "\n"
     ]
    }
   ],
   "source": [
    "minutes=int(input(\"Enter Minutes:\"))\n",
    "hours=minutes/60\n",
    "print(hours, \"Hours\")\n",
    "print()"
   ]
  },
  {
   "cell_type": "markdown",
   "id": "3999409c-3b7e-42a1-86e5-3b347f7452e5",
   "metadata": {},
   "source": [
    "## Author\n",
    "Prithvi Ibrahimpur"
   ]
  },
  {
   "cell_type": "code",
   "execution_count": null,
   "id": "d9c808de-4095-4426-a48c-5ce63b846e28",
   "metadata": {},
   "outputs": [],
   "source": []
  }
 ],
 "metadata": {
  "kernelspec": {
   "display_name": "Python 3 (ipykernel)",
   "language": "python",
   "name": "python3"
  },
  "language_info": {
   "codemirror_mode": {
    "name": "ipython",
    "version": 3
   },
   "file_extension": ".py",
   "mimetype": "text/x-python",
   "name": "python",
   "nbconvert_exporter": "python",
   "pygments_lexer": "ipython3",
   "version": "3.9.13"
  }
 },
 "nbformat": 4,
 "nbformat_minor": 5
}
