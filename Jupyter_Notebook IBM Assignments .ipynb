{
 "cells": [
  {
   "cell_type": "markdown",
   "metadata": {},
   "source": [
    "<center>\n",
    "    <img src=\"https://cf-courses-data.s3.us.cloud-object-storage.appdomain.cloud/IBMDeveloperSkillsNetwork-DS0105EN-SkillsNetwork/labs/Module2/images/SN_web_lightmode.png\" width=\"300\" alt=\"cognitiveclass.ai logo\">\n",
    "</center>\n"
   ]
  },
  {
   "cell_type": "markdown",
   "metadata": {},
   "source": [
    "# My Jupyter Notebook on IBM Watson Studio"
   ]
  },
  {
   "cell_type": "markdown",
   "metadata": {},
   "source": [
    "**Prithvi Ibrahimpur**\n",
    "Learning to be a Environmental Data Scientist"
   ]
  },
  {
   "cell_type": "markdown",
   "metadata": {},
   "source": [
    "*I am interested in Data Science because it will not only add another skill, but also will help me in my career in Environmental Engineering as, in this job there is a lot of data that is being collected regarding toxins, migrations, water quality to name a few, but the data might not make sense at a first glance, but with Data science this data would help make sense of the problem in front and provide solutions that would rely on models to provide better understanding.*"
   ]
  },
  {
   "cell_type": "markdown",
   "metadata": {},
   "source": [
    "### The code in the next cell is used to display the calendar for the selected month and year."
   ]
  },
  {
   "cell_type": "code",
   "execution_count": null,
   "metadata": {},
   "outputs": [],
   "source": [
    "import calendar\n",
    "# Enter the month and year\n",
    "year=int(input(\"Enter Year:\"))\n",
    "month=int(input(\"Enter month:\"))\n",
    "\n",
    "calendar=calendar.month(year,month)\n",
    "print(calendar)"
   ]
  },
  {
   "cell_type": "markdown",
   "metadata": {
    "tags": []
   },
   "source": [
    "#### How Data Science is driving innovation in Environment\n",
    "\n",
    "----\n",
    "\n",
    "* By building a digital version of Planet Earth is is revolutionising Climate Forcasts.\n",
    "* Accelerating Scientific Research at NASA.\n",
    "* AI is being used for Wildlife protection, Ocean Cleanup and much more.\n",
    "* Helping people connect to nature.\n",
    "\n",
    "<img src=\"https://www.earthdata.nasa.gov/s3fs-public/2021-10/EarthSystemObs.png?VersionId=SkIVkZrSMD1w0z_MsYMS_AEhEVlZuGZ6.jpg\">\n",
    "\n",
    "[4 Ways Data Science is Driving Innovation to Help the Environment](https://medium.com/rs21/4-ways-data-science-is-driving-innovation-to-help-the-environment-348f79bc44c)\n",
    "\n",
    "With Data Science gaining popularity in recent years there is a lot of scope and uses of data science in ~~Environmental Sector~~ all branches relating to Earth and Ocean as with more probes and being collected through various sensors and probes all around.\n",
    "\n"
   ]
  },
  {
   "cell_type": "code",
   "execution_count": null,
   "metadata": {},
   "outputs": [],
   "source": []
  }
 ],
 "metadata": {
  "kernelspec": {
   "display_name": "Python 3 (ipykernel)",
   "language": "python",
   "name": "python3"
  },
  "language_info": {
   "codemirror_mode": {
    "name": "ipython",
    "version": 3
   },
   "file_extension": ".py",
   "mimetype": "text/x-python",
   "name": "python",
   "nbconvert_exporter": "python",
   "pygments_lexer": "ipython3",
   "version": "3.9.13"
  }
 },
 "nbformat": 4,
 "nbformat_minor": 4
}
